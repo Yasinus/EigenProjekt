{
 "cells": [
  {
   "cell_type": "markdown",
   "metadata": {},
   "source": [
    "# Image Creation using PixelSorter\n",
    "\n",
    "This Jupyter Notebook demonstrates the process of creating images using the `PixelSorter` library. The workflow involves several steps, including image loading, segmentation, flow field application, and pixel sorting. Below is a brief overview of the steps involved:\n"
   ]
  },
  {
   "cell_type": "markdown",
   "metadata": {},
   "source": [
    "\n",
    "1. **Import Necessary Libraries**: Import all the required libraries such as `Mask`, `PixelSorter`, `FlowField`, `ColorSpace`, `cv2`, `numpy`, and `os`.\n"
   ]
  },
  {
   "cell_type": "code",
   "execution_count": 1,
   "metadata": {},
   "outputs": [
    {
     "name": "stderr",
     "output_type": "stream",
     "text": [
      "c:\\Users\\User\\.conda\\envs\\i2dl\\Lib\\site-packages\\tqdm\\auto.py:21: TqdmWarning: IProgress not found. Please update jupyter and ipywidgets. See https://ipywidgets.readthedocs.io/en/stable/user_install.html\n",
      "  from .autonotebook import tqdm as notebook_tqdm\n"
     ]
    }
   ],
   "source": [
    "from mask import Mask\n",
    "from pixelsorter import PixelSorter\n",
    "from flowfield import FlowField\n",
    "from colorspace import ColorSpace\n",
    "import cv2\n",
    "import numpy as np\n",
    "import os\n"
   ]
  },
  {
   "cell_type": "markdown",
   "metadata": {},
   "source": [
    "\n",
    "2. **Define Helper Functions**: Define any helper functions needed, such as `show_image` to display images.\n"
   ]
  },
  {
   "cell_type": "code",
   "execution_count": 2,
   "metadata": {},
   "outputs": [],
   "source": [
    "def show_image(img):\n",
    "    cv2.imshow('Image', img)\n",
    "    cv2.resizeWindow('Image', 600,600)\n",
    "    cv2.waitKey(0)\n",
    "    cv2.destroyAllWindows()"
   ]
  },
  {
   "cell_type": "markdown",
   "metadata": {},
   "source": [
    "\n",
    "3. **Load and Preprocess Image**: Load the input image, resize it, and display it. Here are the Configurations listed\n"
   ]
  },
  {
   "cell_type": "code",
   "execution_count": 3,
   "metadata": {},
   "outputs": [],
   "source": [
    "    pictures_name = 'statue.png'\n",
    "    use_segmentation = True\n",
    "    use_flowfield = True\n",
    "    flowfield_type = 'depth'\n",
    "\n"
   ]
  },
  {
   "cell_type": "code",
   "execution_count": 4,
   "metadata": {},
   "outputs": [],
   "source": [
    "\n",
    "    image = cv2.imread(os.path.join('pictures','input', pictures_name))\n",
    "    image = cv2.resize(image, (image.shape[1]//2, image.shape[0]//2))\n",
    "    show_image(image)\n",
    "\n",
    "    pixelSorter = PixelSorter()\n",
    "    mask = Mask()\n"
   ]
  },
  {
   "cell_type": "markdown",
   "metadata": {},
   "source": [
    "\n",
    "4. **Segmentation and Mask Application**: Depending on the configuration, apply segmentation masks to the image.\n"
   ]
  },
  {
   "cell_type": "code",
   "execution_count": 5,
   "metadata": {},
   "outputs": [
    {
     "ename": "AttributeError",
     "evalue": "'Mask' object has no attribute 'segmentate'",
     "output_type": "error",
     "traceback": [
      "\u001b[1;31m---------------------------------------------------------------------------\u001b[0m",
      "\u001b[1;31mAttributeError\u001b[0m                            Traceback (most recent call last)",
      "Cell \u001b[1;32mIn[5], line 2\u001b[0m\n\u001b[0;32m      1\u001b[0m \u001b[38;5;28;01mif\u001b[39;00m use_segmentation:\n\u001b[1;32m----> 2\u001b[0m     applied_masks \u001b[38;5;241m=\u001b[39m \u001b[43mmask\u001b[49m\u001b[38;5;241;43m.\u001b[39;49m\u001b[43msegmentate\u001b[49m\n\u001b[0;32m      4\u001b[0m \u001b[38;5;28;01melse\u001b[39;00m:\n\u001b[0;32m      5\u001b[0m     applied_masks \u001b[38;5;241m=\u001b[39m [image]\n",
      "\u001b[1;31mAttributeError\u001b[0m: 'Mask' object has no attribute 'segmentate'"
     ]
    }
   ],
   "source": [
    "\n",
    "    if use_segmentation:\n",
    "        applied_masks = mask.segmentate\n",
    "\n",
    "    else:\n",
    "        applied_masks = [image]\n"
   ]
  },
  {
   "cell_type": "markdown",
   "metadata": {},
   "source": [
    "\n",
    "5. **Flow Field Application**: If enabled, apply a flow field to the image based on a specified type (e.g., depth).\n"
   ]
  },
  {
   "cell_type": "code",
   "execution_count": 6,
   "metadata": {},
   "outputs": [],
   "source": [
    "\n",
    "    if use_flowfield:\n",
    "        image_depth = ColorSpace.get_sort_func(flowfield_type)(image) \n",
    "        flow_field = FlowField(image_depth)\n",
    "        show_image(image_depth)\n"
   ]
  },
  {
   "cell_type": "markdown",
   "metadata": {},
   "source": [
    "\n",
    "6. **Pixel Sorting**: Use the `PixelSorter` to sort the pixels of the image based on various criteria such as hue, value, and flow field direction.\n"
   ]
  },
  {
   "cell_type": "code",
   "execution_count": 7,
   "metadata": {},
   "outputs": [],
   "source": [
    "\n",
    "\n",
    "    cummulativ_image = np.zeros_like(image)\n",
    "    for applied_seg_image in applied_masks:\n",
    "        masked_image,reverse = mask.mask_image(applied_seg_image, 'saturation', threshold=(175,255))\n",
    "        masked_image,second_reverse = mask.mask_image(mask.apply_mask(image, masked_image), 'value', threshold=(105,195))\n",
    " \n",
    "        show_image(mask.apply_mask(image, masked_image))    \n",
    "\n",
    "        sorted_image = pixelSorter.sort_pixels(image,\n",
    "                                                mask=masked_image, \n",
    "                                                sort_type='hue', \n",
    "                                                sort_direction='vertical', \n",
    "                                                sort_ascend=True,\n",
    "                                                split_interval_groups = True,\n",
    "                                                interval_random_range = (image.shape[0],image.shape[0]),\n",
    "                                                flow_field = None)\n",
    "        sorted_image = pixelSorter.sort_pixels(sorted_image,\n",
    "                                                mask=masked_image, \n",
    "                                                sort_type='value', \n",
    "                                                sort_direction='flowfield', \n",
    "                                                sort_ascend=True,\n",
    "                                                split_interval_groups = True,\n",
    "                                                interval_random_range = (image.shape[1],image.shape[1]),\n",
    "                                                flow_field = flow_field)\n",
    "        \n",
    "        output_image = sorted_image + mask.apply_mask(image, np.clip(reverse + second_reverse,0,1)) \n",
    "        cummulativ_image += output_image\n",
    "        show_image(output_image)\n"
   ]
  },
  {
   "cell_type": "markdown",
   "metadata": {},
   "source": [
    "\n",
    "The resulting image will be displayed at the end of the notebook."
   ]
  },
  {
   "cell_type": "code",
   "execution_count": 8,
   "metadata": {},
   "outputs": [],
   "source": [
    "\n",
    "    show_image(cummulativ_image)\n",
    "     #cv2.imwrite(os.path.join('pictures','output', pictures_name), img)"
   ]
  }
 ],
 "metadata": {
  "kernelspec": {
   "display_name": "i2dl",
   "language": "python",
   "name": "python3"
  },
  "language_info": {
   "codemirror_mode": {
    "name": "ipython",
    "version": 3
   },
   "file_extension": ".py",
   "mimetype": "text/x-python",
   "name": "python",
   "nbconvert_exporter": "python",
   "pygments_lexer": "ipython3",
   "version": "3.11.9"
  }
 },
 "nbformat": 4,
 "nbformat_minor": 2
}
